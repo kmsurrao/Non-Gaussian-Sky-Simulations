{
 "cells": [
  {
   "cell_type": "markdown",
   "id": "a0b6108a",
   "metadata": {},
   "source": [
    "## To run this notebook, first run main.py."
   ]
  },
  {
   "cell_type": "code",
   "execution_count": null,
   "id": "fd730fec",
   "metadata": {},
   "outputs": [],
   "source": [
    "import numpy as np\n",
    "import healpy as hp\n",
    "import pickle\n",
    "import matplotlib.pyplot as plt\n",
    "from pixell import enmap, enplot, curvedsky\n",
    "from input import Info\n",
    "import yaml"
   ]
  },
  {
   "cell_type": "code",
   "execution_count": null,
   "id": "3cfcaa8a",
   "metadata": {},
   "outputs": [],
   "source": [
    "font = {'size'   : 20, 'family':'STIXGeneral'}\n",
    "plt.rcParams.update({\n",
    "     'text.usetex': True,\n",
    "     'font.family': 'serif',\n",
    "     'font.sans-serif': ['Computer Modern']})\n",
    "plt.rc_context({'axes.autolimit_mode': 'round_numbers'})"
   ]
  },
  {
   "cell_type": "markdown",
   "id": "0d7de6ae",
   "metadata": {},
   "source": [
    "## Read in info from yaml file (modify yaml_file to be the path to the same file with which main.py was run)"
   ]
  },
  {
   "cell_type": "code",
   "execution_count": null,
   "id": "580c7227",
   "metadata": {},
   "outputs": [],
   "source": [
    "yaml_file = 'example_yaml_files/laptop.yaml'\n",
    "inp = Info(yaml_file)"
   ]
  },
  {
   "cell_type": "markdown",
   "id": "027b90af",
   "metadata": {},
   "source": [
    "## Plotting Definitions"
   ]
  },
  {
   "cell_type": "code",
   "execution_count": null,
   "id": "c74b0539",
   "metadata": {},
   "outputs": [],
   "source": [
    "colors = ['red', 'blue', 'green']\n",
    "linestyles = ['solid', 'dashed', 'dotted', 'dashdot']\n",
    "ells = np.arange(inp.ellmax+1)\n",
    "to_dl = ells*(ells+1)/2/np.pi\n",
    "freqs = [220, 150, 90]\n",
    "map_types = ['I', 'Q', 'U']\n",
    "spectra_types = ['TT', 'EE', 'BB', 'TE', 'EB', 'TB']\n"
   ]
  },
  {
   "cell_type": "markdown",
   "id": "00ccdd8a",
   "metadata": {},
   "source": [
    "## Beams"
   ]
  },
  {
   "cell_type": "code",
   "execution_count": null,
   "id": "8567745e",
   "metadata": {},
   "outputs": [],
   "source": [
    "if inp.plots_to_make == 'all' or 'beams' in inp.plots_to_make:\n",
    "    colors = ['red', 'blue', 'green']\n",
    "    linestyles = ['solid', 'dashed', 'dotted', 'dashdot']\n",
    "    plt.clf()\n",
    "    for freq in range(3):\n",
    "        for split in range(4):\n",
    "            if freq==0:\n",
    "                beamfile = f'{inp.beam_dir}/set{split}_pa4_f220_night_beam_tform_jitter_cmb.txt'\n",
    "                label = f'PA4 220, split {split}'\n",
    "            elif freq==1:\n",
    "                beamfile = f'{inp.beam_dir}/set{split}_pa5_f150_night_beam_tform_jitter_cmb.txt'\n",
    "                label = f'PA5 150, split {split}'\n",
    "            elif freq==2:\n",
    "                beamfile = f'{inp.beam_dir}/set{split}_pa6_f090_night_beam_tform_jitter_cmb.txt'\n",
    "                label = f'PA6 90, split {split}'\n",
    "            data = np.loadtxt(beamfile)\n",
    "            l = data[:,0]\n",
    "            Bl = data[:,1]\n",
    "            Bl /= Bl[0]\n",
    "            plt.plot(l, Bl, label=label, color=colors[freq], linestyle=linestyles[split])\n",
    "    plt.grid()\n",
    "    plt.legend()\n",
    "    plt.xlabel(r'$\\ell$')\n",
    "    plt.ylabel(r'$B_\\ell$')\n",
    "    plt.yscale('log')\n",
    "    plt.xlim(0,25000)\n"
   ]
  },
  {
   "cell_type": "markdown",
   "id": "c0d79d7b",
   "metadata": {},
   "source": [
    "## Frequency Map Power Spectra Before Beam Convolution"
   ]
  },
  {
   "cell_type": "code",
   "execution_count": null,
   "id": "5540062b",
   "metadata": {},
   "outputs": [],
   "source": [
    "if inp.plots_to_make == 'all' or 'freq_maps_no_beam' in inp.plots_to_make:\n",
    "    spectra_no_beam = pickle.load(open(f'{inp.output_dir}/spectra_no_beam.p', 'rb'))\n",
    "    plt.clf()\n",
    "    if inp.pol:\n",
    "        fig, axs = plt.subplots(2, 3, figsize=(9,6))\n",
    "        axs = axs.flatten()\n",
    "        for t in range(6):\n",
    "            plt.axes(axs[t])\n",
    "            for freq in range(3):\n",
    "                plt.plot(ells[2:], (to_dl*spectra_no_beam[freq,t])[2:], label=f'{freqs[freq]} GHz', color=colors[freq])  \n",
    "            plt.grid()\n",
    "            plt.xlabel(r'$\\ell$')\n",
    "            plt.ylabel(r'$D_\\ell$ [$\\mathrm{K}^2$]')\n",
    "            plt.title(f'{spectra_types[t]}')\n",
    "            if t <= 2:\n",
    "                plt.yscale('log')\n",
    "            elif t==3:\n",
    "                plt.ylim(-0.02e-8, 0.02e-8)\n",
    "            elif t==4:\n",
    "                plt.ylim(-0.02e-10, 0.02e-10)\n",
    "            elif t==5:\n",
    "                plt.ylim(-0.02e-9, 0.02e-9)\n",
    "            plt.xlim(2,inp.ellmax)\n",
    "            plt.xscale('log')\n",
    "        handles, labels = axs[-1].get_legend_handles_labels()\n",
    "        fig.legend(handles, labels, fontsize=12, bbox_to_anchor=(1.0, 0.), ncol=3)\n",
    "        plt.tight_layout()\n",
    "        \n"
   ]
  },
  {
   "cell_type": "markdown",
   "id": "d02bb018",
   "metadata": {},
   "source": [
    "## Frequency Map Power Spectra After Beam Convolution"
   ]
  },
  {
   "cell_type": "code",
   "execution_count": null,
   "id": "c6bf6c95",
   "metadata": {},
   "outputs": [],
   "source": [
    "if inp.plots_to_make == 'all' or 'beam_convolved_maps' in inp.plots_to_make:\n",
    "    beam_convolved_spectra = pickle.load(open(f'{inp.output_dir}/beam_convolved_spectra.p', 'rb'))\n",
    "    if not inp.pol:\n",
    "        plt.clf()\n",
    "        for freq in range(3):\n",
    "            for split in range(4):\n",
    "                spectra_to_plot = beam_convolved_spectra[freq,split]\n",
    "                plt.plot(ells[2:], (to_dl*spectra_to_plot)[2:], label=f'{freqs[freq]} GHz, split {split}', color=colors[freq], linestyle=linestyles[split])\n",
    "        plt.xlabel(r'$\\ell$')\n",
    "        plt.ylabel(r'$D_\\ell$ [$\\mathrm{K}^2$]')\n",
    "        plt.yscale('log')\n",
    "        plt.xlim(2, inp.ellmax)\n",
    "        plt.grid()\n",
    "        plt.legend()\n",
    "    else:\n",
    "        plt.clf()\n",
    "        fig, axs = plt.subplots(2, 3, figsize=(9,6))\n",
    "        axs = axs.flatten()\n",
    "        for t in range(6):\n",
    "            plt.axes(axs[t])\n",
    "            for freq in range(3):\n",
    "                split = 0\n",
    "                spectra_to_plot = beam_convolved_spectra[freq,split,t]\n",
    "                plt.plot(ells[2:], (to_dl*spectra_to_plot)[2:], label=f'{freqs[freq]} GHz', color=colors[freq])\n",
    "            plt.xlabel(r'$\\ell$')\n",
    "            plt.ylabel(r'$D_\\ell$ [$\\mathrm{K}^2$]')\n",
    "            plt.grid()\n",
    "            plt.title(f'{spectra_types[t]}')\n",
    "            if t <= 2:\n",
    "                plt.yscale('log')\n",
    "            elif t==3:\n",
    "                plt.ylim(-0.02e-8, 0.02e-8)\n",
    "            elif t==4:\n",
    "                plt.ylim(-0.02e-10, 0.02e-10)\n",
    "            elif t==5:\n",
    "                plt.ylim(-0.02e-9, 0.02e-9)\n",
    "            plt.xlim(2, inp.ellmax)\n",
    "            plt.xscale('log')\n",
    "        handles, labels = axs[-1].get_legend_handles_labels()\n",
    "        fig.legend(handles, labels, fontsize=12, bbox_to_anchor=(1.0, 0.), ncol=3)\n",
    "        plt.tight_layout()\n",
    "\n"
   ]
  },
  {
   "cell_type": "markdown",
   "id": "5a85a955",
   "metadata": {},
   "source": [
    "## Final CAR Map Power Spectra (After Adding Noise)"
   ]
  },
  {
   "cell_type": "code",
   "execution_count": null,
   "id": "688a9bd6",
   "metadata": {},
   "outputs": [],
   "source": [
    "if inp.plots_to_make == 'all' or 'CAR_maps' in inp.plots_to_make:\n",
    "    CAR_spectra = pickle.load(open(f'{inp.output_dir}/CAR_spectra.p', 'rb'))\n",
    "    if not inp.pol:\n",
    "        for i, freq in enumerate([220, 150, 90]):\n",
    "            plt.plot(ells, to_dl*CAR_spectra[i], label=f'{freq} GHz')\n",
    "        plt.xlabel(r'$\\ell$')\n",
    "        plt.ylabel(r'$D_\\ell$ [$\\mathrm{K}^2$]')\n",
    "        plt.xlim(2, inp.ellmax)\n",
    "        plt.grid()\n",
    "        plt.legend()\n",
    "\n",
    "    else:\n",
    "        fig, axs = plt.subplots(2, 3, figsize=(9,6))\n",
    "        axs = axs.flatten()\n",
    "        spectra_types_here = ['T', 'E', 'B']\n",
    "        axis_mapping = {(0,0):0, (0,1):3, (0,2):5, (1,1):1, (1,2):4, (2,2):2}\n",
    "        for i, freq in enumerate([220, 150, 90]):\n",
    "            ax = 0\n",
    "            for t1 in range(3):\n",
    "                for t2 in range(t1,3):\n",
    "                    t = axis_mapping[(t1,t2)]\n",
    "                    plt.axes(axs[t])\n",
    "                    ax += 1\n",
    "                    plt.plot(ells[2:], (to_dl*CAR_spectra[i, ax-1])[2:], label=f'{freq} GHz', color=colors[i])\n",
    "                    plt.title(f'{spectra_types_here[t1]}{spectra_types_here[t2]}')\n",
    "                    plt.xlabel(r'$\\ell$')\n",
    "                    plt.ylabel(r'$D_\\ell$ [$\\mathrm{K}^2$]')\n",
    "                    plt.grid()\n",
    "                    plt.xlim(2, inp.ellmax)\n",
    "                    if t <= 2:\n",
    "                        plt.yscale('log')\n",
    "                    elif t==3:\n",
    "                        plt.ylim(-0.02e-6, 0.02e-6)\n",
    "                    elif t==4:\n",
    "                        plt.ylim(-0.01e-7, 0.01e-7)\n",
    "                    elif t==5:\n",
    "                        plt.ylim(-0.01e-7, 0.01e-7)\n",
    "                    plt.xscale('log')\n",
    "        handles, labels = axs[-1].get_legend_handles_labels()\n",
    "        fig.legend(handles, labels, fontsize=12, bbox_to_anchor=(1.0, 0.), ncol=3)\n",
    "        plt.tight_layout()\n",
    "\n"
   ]
  },
  {
   "cell_type": "markdown",
   "id": "abea3806",
   "metadata": {},
   "source": [
    "## Power Spectra of all Components"
   ]
  },
  {
   "cell_type": "code",
   "execution_count": null,
   "id": "c206c733",
   "metadata": {
    "scrolled": false
   },
   "outputs": [],
   "source": [
    "if inp.plots_to_make == 'all' or 'all_comp_spectra' in inp.plots_to_make:\n",
    "    for i, freq in enumerate([220, 150, 90]):\n",
    "        ells = np.arange(inp.ellmax+1)\n",
    "        to_dl = ells*(ells+1)/2/np.pi\n",
    "        gal_spectra = pickle.load( open(f'{inp.output_dir}/gal_comp_spectra_{freq}.p', 'rb'))\n",
    "        extragal_spectra = pickle.load( open(f'{inp.output_dir}/extragal_comp_spectra_{freq}.p', 'rb'))\n",
    "        gal_comps = ['Dust', 'Synchrotron', 'AME', 'Free-free']\n",
    "        extragal_comps = ['CMB', 'Late-time kSZ', 'tSZ', 'CIB', 'Radio', 'Reionization kSZ']\n",
    "        modes = ['TT', 'EE', 'BB', 'TE', 'EB', 'TB']\n",
    "        if not inp.pol:\n",
    "            plt.clf()\n",
    "            for c in range(len(gal_spectra)):\n",
    "                plt.plot(ells[2:], (to_dl*gal_spectra[c])[2:], label=gal_comps[c])\n",
    "            for c in range(len(extragal_spectra)):\n",
    "                plt.plot(ells[2:], (to_dl*extragal_spectra[c])[2:], label=extragal_comps[c])\n",
    "            plt.yscale('log')\n",
    "            plt.xlabel(r'$\\ell$')\n",
    "            plt.ylabel(r'$D_\\ell$ [$\\mathrm{K}^2$]')\n",
    "            plt.grid()\n",
    "            plt.legend()\n",
    "        else:\n",
    "            fig, axs = plt.subplots(2, 3, figsize=(9,6))\n",
    "            axs = axs.flatten()\n",
    "            for m in range(6):\n",
    "                plt.axes(axs[m])\n",
    "                for c in range(len(gal_spectra)):\n",
    "                    plt.plot(ells[2:], (to_dl*gal_spectra[c,m])[2:], label=gal_comps[c])\n",
    "                for c in range(len(extragal_spectra)):\n",
    "                    plt.plot(ells[2:], (to_dl*extragal_spectra[c,m])[2:], label=extragal_comps[c])\n",
    "                if m < 3:\n",
    "                    plt.yscale('log')\n",
    "                ylims = [0.02e-8, 0.02e-8, 0.03e-8]\n",
    "                if m==3:\n",
    "                    plt.ylim(-ylims[i], ylims[i])\n",
    "                elif m==4:\n",
    "                    plt.ylim(-ylims[i]*10**(-2), ylims[i]*10**(-2))\n",
    "                elif m==5:\n",
    "                    plt.ylim(-ylims[i]*10**(-1), ylims[i]*10**(-1))\n",
    "                plt.xlabel(r'$\\ell$')\n",
    "                plt.ylabel(r'$D_\\ell$ [$\\mathrm{K}^2$]')\n",
    "                plt.grid()\n",
    "                plt.xlim(2, inp.ellmax)\n",
    "                plt.title(f'{modes[m]}')\n",
    "            handles, labels = axs[-1].get_legend_handles_labels()\n",
    "            fig.legend(handles, labels, fontsize=12, bbox_to_anchor=(1.0, 0.), ncol=3)\n",
    "            plt.suptitle(f'{freq} GHz', fontsize=20)\n",
    "            plt.tight_layout()\n",
    "\n"
   ]
  },
  {
   "cell_type": "markdown",
   "id": "ad8feb01",
   "metadata": {},
   "source": [
    "## TT Spectra of Extragalactic Components"
   ]
  },
  {
   "cell_type": "code",
   "execution_count": null,
   "id": "6958a83c",
   "metadata": {},
   "outputs": [],
   "source": [
    "fig, axs = plt.subplots(1, 3, figsize=(12,4), sharey=True)\n",
    "axs = axs.flatten()\n",
    "for i, freq in enumerate([90, 150, 220]):\n",
    "    plt.axes(axs[i])\n",
    "    ells = np.arange(inp.ellmax+1)\n",
    "    to_dl = ells*(ells+1)/2/np.pi\n",
    "    gal_spectra = pickle.load( open(f'{inp.output_dir}/gal_comp_spectra_{freq}.p', 'rb'))\n",
    "    extragal_spectra = pickle.load( open(f'{inp.output_dir}/extragal_comp_spectra_{freq}.p', 'rb'))\n",
    "    extragal_comps = ['CMB', 'Late-time kSZ', 'tSZ', 'CIB', 'Radio', 'Reionization kSZ']\n",
    "    for c in range(len(extragal_spectra)):\n",
    "        plt.plot(ells[2:], (to_dl*extragal_spectra[c,0])[2:], label=extragal_comps[c])\n",
    "    plt.yscale('log')\n",
    "    plt.xlabel(r'$\\ell$')\n",
    "    if i==0:\n",
    "        plt.ylabel(r'$D_\\ell$ [$\\mathrm{K}^2$]')\n",
    "    plt.grid()\n",
    "    plt.title(f'{freq}')\n",
    "    plt.xlim(0,10000)\n",
    "handles, labels = axs[-1].get_legend_handles_labels()\n",
    "fig.legend(handles, labels, fontsize=12, bbox_to_anchor=(0.7, 0.), ncol=3)\n",
    "plt.suptitle('TT Extragalactic Spectra', fontsize=16)\n",
    "plt.tight_layout()\n",
    "\n"
   ]
  },
  {
   "cell_type": "code",
   "execution_count": null,
   "id": "d61fb9c2",
   "metadata": {},
   "outputs": [],
   "source": []
  }
 ],
 "metadata": {
  "kernelspec": {
   "display_name": "Python 3 (ipykernel)",
   "language": "python",
   "name": "python3"
  },
  "language_info": {
   "codemirror_mode": {
    "name": "ipython",
    "version": 3
   },
   "file_extension": ".py",
   "mimetype": "text/x-python",
   "name": "python",
   "nbconvert_exporter": "python",
   "pygments_lexer": "ipython3",
   "version": "3.9.12"
  }
 },
 "nbformat": 4,
 "nbformat_minor": 5
}
